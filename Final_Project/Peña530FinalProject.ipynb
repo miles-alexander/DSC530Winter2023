{
 "cells": [
  {
   "cell_type": "markdown",
   "id": "562e0fd4",
   "metadata": {},
   "source": [
    "#### Final Project"
   ]
  },
  {
   "cell_type": "markdown",
   "id": "b57f4332",
   "metadata": {},
   "source": [
    "#### Miles A. Peña"
   ]
  },
  {
   "cell_type": "markdown",
   "id": "2092ab4d",
   "metadata": {},
   "source": [
    "#### DSC 530"
   ]
  },
  {
   "cell_type": "markdown",
   "id": "40d2b423",
   "metadata": {},
   "source": [
    "#### 03/02/2023"
   ]
  },
  {
   "cell_type": "code",
   "execution_count": 2,
   "id": "fa5aa14b",
   "metadata": {},
   "outputs": [],
   "source": [
    "from __future__ import print_function, division\n",
    "\n",
    "import thinkstats2\n",
    "import thinkplot\n",
    "\n",
    "import matplotlib.pyplot as plt\n",
    "import matplotlib.dates as mdates\n",
    "\n",
    "import pandas as pd\n",
    "\n",
    "from pandas.plotting import register_matplotlib_converters\n",
    "register_matplotlib_converters()\n",
    "\n",
    "import scipy.stats\n",
    "import numpy as np"
   ]
  },
  {
   "cell_type": "markdown",
   "id": "fbc5d9d5",
   "metadata": {},
   "source": [
    "#### The aim of this project is to determine the relationship (if any) that exists between time and threat levels of extinction as well as the impact (if any) that the endangerment of one species has on another. "
   ]
  },
  {
   "cell_type": "code",
   "execution_count": 105,
   "id": "6d31770d",
   "metadata": {},
   "outputs": [
    {
     "name": "stderr",
     "output_type": "stream",
     "text": [
      "/var/folders/s8/kflkrk3j0vv8sqc2gd5wntvm0000gn/T/ipykernel_20815/2298242140.py:3: UserWarning: Could not infer format, so each element will be parsed individually, falling back to `dateutil`. To ensure parsing is consistent and as-expected, please specify a format.\n",
      "  endangered_df = pd.read_csv(\"RDS-2014-0009/Data/Figure_22.csv\",\n"
     ]
    }
   ],
   "source": [
    "# import Figure 22 which according to the User Guide Entity Attributes is Comma-delimited ASCII text file containing the cumulative number of species listed as threatened or endangered (accounting for delistings) under the Endangered Species Act, from 1 July 1976 through 27 October 2010 for all taxa, plants, animals, vertebrate groups (amphibians, birds, fish, mammals, reptiles), and invertebrate groups (arachnids, crustaceans, insects, and molluscs).\n",
    "\n",
    "endangered_df = pd.read_csv(\"RDS-2014-0009/Data/Figure_22.csv\",\n",
    "                                    parse_dates=['date'],\n",
    "                                    index_col=['date'])"
   ]
  },
  {
   "cell_type": "code",
   "execution_count": 106,
   "id": "01a25769",
   "metadata": {},
   "outputs": [
    {
     "data": {
      "text/html": [
       "<div>\n",
       "<style scoped>\n",
       "    .dataframe tbody tr th:only-of-type {\n",
       "        vertical-align: middle;\n",
       "    }\n",
       "\n",
       "    .dataframe tbody tr th {\n",
       "        vertical-align: top;\n",
       "    }\n",
       "\n",
       "    .dataframe thead th {\n",
       "        text-align: right;\n",
       "    }\n",
       "</style>\n",
       "<table border=\"1\" class=\"dataframe\">\n",
       "  <thead>\n",
       "    <tr style=\"text-align: right;\">\n",
       "      <th></th>\n",
       "      <th>all_m</th>\n",
       "      <th>all_b</th>\n",
       "      <th>all_r</th>\n",
       "      <th>all_am</th>\n",
       "      <th>all_f</th>\n",
       "      <th>all_s</th>\n",
       "      <th>all_cl</th>\n",
       "      <th>all_cr</th>\n",
       "      <th>all_i</th>\n",
       "      <th>all_ar</th>\n",
       "      <th>...</th>\n",
       "      <th>end_cr</th>\n",
       "      <th>thrt_cr</th>\n",
       "      <th>end_i</th>\n",
       "      <th>thrt_i</th>\n",
       "      <th>end_ar</th>\n",
       "      <th>thrt_ar</th>\n",
       "      <th>end_p</th>\n",
       "      <th>thrt_p</th>\n",
       "      <th>end_all</th>\n",
       "      <th>thrt_all</th>\n",
       "    </tr>\n",
       "    <tr>\n",
       "      <th>date</th>\n",
       "      <th></th>\n",
       "      <th></th>\n",
       "      <th></th>\n",
       "      <th></th>\n",
       "      <th></th>\n",
       "      <th></th>\n",
       "      <th></th>\n",
       "      <th></th>\n",
       "      <th></th>\n",
       "      <th></th>\n",
       "      <th></th>\n",
       "      <th></th>\n",
       "      <th></th>\n",
       "      <th></th>\n",
       "      <th></th>\n",
       "      <th></th>\n",
       "      <th></th>\n",
       "      <th></th>\n",
       "      <th></th>\n",
       "      <th></th>\n",
       "      <th></th>\n",
       "    </tr>\n",
       "  </thead>\n",
       "  <tbody>\n",
       "    <tr>\n",
       "      <th>1976-07-01</th>\n",
       "      <td>36</td>\n",
       "      <td>66</td>\n",
       "      <td>8</td>\n",
       "      <td>4</td>\n",
       "      <td>34</td>\n",
       "      <td>NaN</td>\n",
       "      <td>22</td>\n",
       "      <td>NaN</td>\n",
       "      <td>8</td>\n",
       "      <td>NaN</td>\n",
       "      <td>...</td>\n",
       "      <td>NaN</td>\n",
       "      <td>NaN</td>\n",
       "      <td>6</td>\n",
       "      <td>2</td>\n",
       "      <td>NaN</td>\n",
       "      <td>NaN</td>\n",
       "      <td>NaN</td>\n",
       "      <td>NaN</td>\n",
       "      <td>170</td>\n",
       "      <td>8</td>\n",
       "    </tr>\n",
       "    <tr>\n",
       "      <th>1976-09-01</th>\n",
       "      <td>36</td>\n",
       "      <td>66</td>\n",
       "      <td>8</td>\n",
       "      <td>4</td>\n",
       "      <td>34</td>\n",
       "      <td>NaN</td>\n",
       "      <td>22</td>\n",
       "      <td>NaN</td>\n",
       "      <td>8</td>\n",
       "      <td>NaN</td>\n",
       "      <td>...</td>\n",
       "      <td>NaN</td>\n",
       "      <td>NaN</td>\n",
       "      <td>6</td>\n",
       "      <td>2</td>\n",
       "      <td>NaN</td>\n",
       "      <td>NaN</td>\n",
       "      <td>NaN</td>\n",
       "      <td>NaN</td>\n",
       "      <td>170</td>\n",
       "      <td>8</td>\n",
       "    </tr>\n",
       "    <tr>\n",
       "      <th>1976-10-01</th>\n",
       "      <td>36</td>\n",
       "      <td>66</td>\n",
       "      <td>8</td>\n",
       "      <td>4</td>\n",
       "      <td>34</td>\n",
       "      <td>NaN</td>\n",
       "      <td>22</td>\n",
       "      <td>NaN</td>\n",
       "      <td>8</td>\n",
       "      <td>NaN</td>\n",
       "      <td>...</td>\n",
       "      <td>NaN</td>\n",
       "      <td>NaN</td>\n",
       "      <td>6</td>\n",
       "      <td>2</td>\n",
       "      <td>NaN</td>\n",
       "      <td>NaN</td>\n",
       "      <td>NaN</td>\n",
       "      <td>NaN</td>\n",
       "      <td>170</td>\n",
       "      <td>8</td>\n",
       "    </tr>\n",
       "    <tr>\n",
       "      <th>1976-11-01</th>\n",
       "      <td>36</td>\n",
       "      <td>66</td>\n",
       "      <td>8</td>\n",
       "      <td>4</td>\n",
       "      <td>34</td>\n",
       "      <td>NaN</td>\n",
       "      <td>22</td>\n",
       "      <td>NaN</td>\n",
       "      <td>8</td>\n",
       "      <td>NaN</td>\n",
       "      <td>...</td>\n",
       "      <td>NaN</td>\n",
       "      <td>NaN</td>\n",
       "      <td>6</td>\n",
       "      <td>2</td>\n",
       "      <td>NaN</td>\n",
       "      <td>NaN</td>\n",
       "      <td>NaN</td>\n",
       "      <td>NaN</td>\n",
       "      <td>170</td>\n",
       "      <td>8</td>\n",
       "    </tr>\n",
       "    <tr>\n",
       "      <th>1976-12-31</th>\n",
       "      <td>37</td>\n",
       "      <td>67</td>\n",
       "      <td>9</td>\n",
       "      <td>4</td>\n",
       "      <td>34</td>\n",
       "      <td>NaN</td>\n",
       "      <td>22</td>\n",
       "      <td>NaN</td>\n",
       "      <td>8</td>\n",
       "      <td>NaN</td>\n",
       "      <td>...</td>\n",
       "      <td>NaN</td>\n",
       "      <td>NaN</td>\n",
       "      <td>6</td>\n",
       "      <td>2</td>\n",
       "      <td>NaN</td>\n",
       "      <td>NaN</td>\n",
       "      <td>NaN</td>\n",
       "      <td>NaN</td>\n",
       "      <td>172</td>\n",
       "      <td>9</td>\n",
       "    </tr>\n",
       "  </tbody>\n",
       "</table>\n",
       "<p>5 rows × 37 columns</p>\n",
       "</div>"
      ],
      "text/plain": [
       "            all_m  all_b  all_r  all_am  all_f  all_s  all_cl  all_cr  all_i  \\\n",
       "date                                                                           \n",
       "1976-07-01     36     66      8       4     34    NaN      22     NaN      8   \n",
       "1976-09-01     36     66      8       4     34    NaN      22     NaN      8   \n",
       "1976-10-01     36     66      8       4     34    NaN      22     NaN      8   \n",
       "1976-11-01     36     66      8       4     34    NaN      22     NaN      8   \n",
       "1976-12-31     37     67      9       4     34    NaN      22     NaN      8   \n",
       "\n",
       "            all_ar  ...  end_cr  thrt_cr  end_i  thrt_i  end_ar  thrt_ar  \\\n",
       "date                ...                                                    \n",
       "1976-07-01     NaN  ...     NaN      NaN      6       2     NaN      NaN   \n",
       "1976-09-01     NaN  ...     NaN      NaN      6       2     NaN      NaN   \n",
       "1976-10-01     NaN  ...     NaN      NaN      6       2     NaN      NaN   \n",
       "1976-11-01     NaN  ...     NaN      NaN      6       2     NaN      NaN   \n",
       "1976-12-31     NaN  ...     NaN      NaN      6       2     NaN      NaN   \n",
       "\n",
       "            end_p  thrt_p  end_all  thrt_all  \n",
       "date                                          \n",
       "1976-07-01    NaN     NaN      170         8  \n",
       "1976-09-01    NaN     NaN      170         8  \n",
       "1976-10-01    NaN     NaN      170         8  \n",
       "1976-11-01    NaN     NaN      170         8  \n",
       "1976-12-31    NaN     NaN      172         9  \n",
       "\n",
       "[5 rows x 37 columns]"
      ]
     },
     "execution_count": 106,
     "metadata": {},
     "output_type": "execute_result"
    }
   ],
   "source": [
    "endangered_df.head()"
   ]
  },
  {
   "cell_type": "markdown",
   "id": "03cf3c8a",
   "metadata": {},
   "source": [
    "#### A minimum of 5 variables in your dataset used during your analysis (for help with selecting, the author made his selection on page 6 of your book). Consider what you think could have an impact on your question – remember this is never perfect, so don’t be worried if you miss one (Chapter 1)."
   ]
  },
  {
   "cell_type": "markdown",
   "id": "83f151ea",
   "metadata": {},
   "source": [
    "#### The variables that I selected are \"all_all\", \"all_m\", \"all_b\", \"all_r\", \"all_am\", \"all_f\", and \"all_p\". "
   ]
  },
  {
   "cell_type": "markdown",
   "id": "6ae1b618",
   "metadata": {},
   "source": [
    "#### Describe what the 5 variables mean in the dataset (Chapter 1)."
   ]
  },
  {
   "cell_type": "markdown",
   "id": "521354f0",
   "metadata": {},
   "source": [
    "#### The \"all_all\" variable holds the number of all species listed as threatened or endangered. The \"all_m\" variable holds the number of mammals listed as threatened or endangered. The \"all_b\" variable holds the number of birds listed as threatened or endangered. The \"all_r\" variable holds the number of reptiles listed as threatened or endangered. The \"all_am\" variable holds the number of amphibians listed as threatened or endangered. The \"all_f\" variable holds the number of fish listed as threatened or endangered. The \"all_p\" variable holds the number of plants listed as threatened or endangered."
   ]
  },
  {
   "cell_type": "markdown",
   "id": "95b3af7e",
   "metadata": {},
   "source": [
    "#### Include a histogram of each of the 5 variables – in your summary and analysis, identify any outliers and explain the reasoning for them being outliers and how you believe they should be handled (Chapter 2)."
   ]
  },
  {
   "cell_type": "markdown",
   "id": "29b4a27c",
   "metadata": {},
   "source": [
    "#### All Species"
   ]
  },
  {
   "cell_type": "code",
   "execution_count": 7,
   "id": "ad029813",
   "metadata": {},
   "outputs": [
    {
     "data": {
      "image/png": "[encoded data removed]",
      "text/plain": [
       "<Figure size 640x480 with 1 Axes>"
      ]
     },
     "metadata": {},
     "output_type": "display_data"
    },
    {
     "data": {
      "text/plain": [
       "<Figure size 800x600 with 0 Axes>"
      ]
     },
     "metadata": {},
     "output_type": "display_data"
    }
   ],
   "source": [
    "# histogram for \"all_all\"\n",
    "\n",
    "hist_all_all = thinkstats2.Hist(endangered_df.all_all, label = 'All Species')\n",
    "thinkplot.Hist(hist_all_all)\n",
    "thinkplot.Show(xlabel = 'Threatened or Endangered Species', ylabel = 'Frequency')"
   ]
  },
  {
   "cell_type": "markdown",
   "id": "82d99989",
   "metadata": {},
   "source": [
    "#### Look for outliers by separating the smallest and largest values. "
   ]
  },
  {
   "cell_type": "code",
   "execution_count": 28,
   "id": "f95926c2",
   "metadata": {},
   "outputs": [
    {
     "name": "stdout",
     "output_type": "stream",
     "text": [
      "178 4\n",
      "181 1\n",
      "183 4\n",
      "185 2\n",
      "186 1\n"
     ]
    }
   ],
   "source": [
    "# smallest values for all species\n",
    "\n",
    "for all_all, freq in hist_all_all.Smallest(5):\n",
    "    print(all_all, freq)"
   ]
  },
  {
   "cell_type": "code",
   "execution_count": 29,
   "id": "d13edba5",
   "metadata": {},
   "outputs": [
    {
     "name": "stdout",
     "output_type": "stream",
     "text": [
      "1375 1\n",
      "1368 1\n",
      "1358 1\n",
      "1353 1\n",
      "1352 1\n"
     ]
    }
   ],
   "source": [
    "# largest values for all species\n",
    "\n",
    "for all_all, freq in hist_all_all.Largest(5):\n",
    "    print(all_all, freq)"
   ]
  },
  {
   "cell_type": "markdown",
   "id": "e6d8c3f3",
   "metadata": {},
   "source": [
    "#### All Mammals"
   ]
  },
  {
   "cell_type": "code",
   "execution_count": 10,
   "id": "b507638b",
   "metadata": {
    "scrolled": false
   },
   "outputs": [
    {
     "data": {
      "image/png": "[encoded data removed]",
      "text/plain": [
       "<Figure size 640x480 with 1 Axes>"
      ]
     },
     "metadata": {},
     "output_type": "display_data"
    },
    {
     "data": {
      "text/plain": [
       "<Figure size 800x600 with 0 Axes>"
      ]
     },
     "metadata": {},
     "output_type": "display_data"
    }
   ],
   "source": [
    "# histogram for \"all_m\" \n",
    "\n",
    "hist_all_m = thinkstats2.Hist(endangered_df.all_m, label = 'Mammals')\n",
    "thinkplot.Hist(hist_all_m)\n",
    "thinkplot.Show(xlabel = 'Threatened or Endangered Mammals', ylabel = 'Frequency')"
   ]
  },
  {
   "cell_type": "markdown",
   "id": "62000d59",
   "metadata": {},
   "source": [
    "#### Look for outliers by separating the smallest and largest values. "
   ]
  },
  {
   "cell_type": "code",
   "execution_count": 30,
   "id": "7a7f6cf3",
   "metadata": {},
   "outputs": [
    {
     "name": "stdout",
     "output_type": "stream",
     "text": [
      "35 23\n",
      "36 40\n",
      "37 6\n",
      "38 23\n",
      "41 3\n"
     ]
    }
   ],
   "source": [
    "# smallest values for all mammals\n",
    "\n",
    "for all_m, freq in hist_all_m.Smallest(5):\n",
    "    print(all_m, freq)"
   ]
  },
  {
   "cell_type": "code",
   "execution_count": 31,
   "id": "2ade7da1",
   "metadata": {},
   "outputs": [
    {
     "name": "stdout",
     "output_type": "stream",
     "text": [
      "85 2\n",
      "84 3\n",
      "83 1\n",
      "82 4\n",
      "81 3\n"
     ]
    }
   ],
   "source": [
    "# largest values for all mammals\n",
    "\n",
    "for all_m, freq in hist_all_m.Largest(5):\n",
    "    print(all_m, freq)"
   ]
  },
  {
   "cell_type": "markdown",
   "id": "90589d8f",
   "metadata": {},
   "source": [
    "#### All Birds"
   ]
  },
  {
   "cell_type": "code",
   "execution_count": 14,
   "id": "6af07809",
   "metadata": {},
   "outputs": [
    {
     "data": {
      "image/png": "[encoded data removed]",
      "text/plain": [
       "<Figure size 640x480 with 1 Axes>"
      ]
     },
     "metadata": {},
     "output_type": "display_data"
    },
    {
     "data": {
      "text/plain": [
       "<Figure size 800x600 with 0 Axes>"
      ]
     },
     "metadata": {},
     "output_type": "display_data"
    }
   ],
   "source": [
    "# histogram for \"all_b\"\n",
    "\n",
    "hist_all_b = thinkstats2.Hist(endangered_df.all_b, label = 'Birds')\n",
    "thinkplot.Hist(hist_all_b)\n",
    "thinkplot.Show(xlabel = 'Threatened or Endangered Birds', ylabel = 'Frequency')"
   ]
  },
  {
   "cell_type": "markdown",
   "id": "a7509e34",
   "metadata": {},
   "source": [
    "#### Look for outliers by separating the smallest and largest values. "
   ]
  },
  {
   "cell_type": "code",
   "execution_count": 32,
   "id": "b332d38d",
   "metadata": {},
   "outputs": [
    {
     "name": "stdout",
     "output_type": "stream",
     "text": [
      "66 4\n",
      "67 5\n",
      "68 6\n",
      "69 43\n",
      "70 29\n"
     ]
    }
   ],
   "source": [
    "# smallest values for birds\n",
    "\n",
    "for all_b, freq in hist_all_b.Smallest(5):\n",
    "    print(all_b, freq)"
   ]
  },
  {
   "cell_type": "code",
   "execution_count": 33,
   "id": "c2c1995a",
   "metadata": {},
   "outputs": [
    {
     "name": "stdout",
     "output_type": "stream",
     "text": [
      "93 3\n",
      "92 15\n",
      "91 7\n",
      "90 37\n",
      "89 7\n"
     ]
    }
   ],
   "source": [
    "# largest values for birds\n",
    "\n",
    "for all_b, freq in hist_all_b.Largest(5):\n",
    "    print(all_b, freq)"
   ]
  },
  {
   "cell_type": "markdown",
   "id": "72600795",
   "metadata": {},
   "source": [
    "#### All Reptiles"
   ]
  },
  {
   "cell_type": "code",
   "execution_count": 17,
   "id": "e773b643",
   "metadata": {},
   "outputs": [
    {
     "data": {
      "image/png": "[encoded data removed]",
      "text/plain": [
       "<Figure size 640x480 with 1 Axes>"
      ]
     },
     "metadata": {},
     "output_type": "display_data"
    },
    {
     "data": {
      "text/plain": [
       "<Figure size 800x600 with 0 Axes>"
      ]
     },
     "metadata": {},
     "output_type": "display_data"
    }
   ],
   "source": [
    "# histogram for \"all_r\"\n",
    "\n",
    "hist_all_r = thinkstats2.Hist(endangered_df.all_r, label = 'Reptiles')\n",
    "thinkplot.Hist(hist_all_r)\n",
    "thinkplot.Show(xlabel = 'Threatened or Endangered Reptiles', ylabel = 'Frequency')"
   ]
  },
  {
   "cell_type": "markdown",
   "id": "7a248aca",
   "metadata": {},
   "source": [
    "#### Look for outliers by separating the smallest and largest values. "
   ]
  },
  {
   "cell_type": "code",
   "execution_count": 34,
   "id": "6926684e",
   "metadata": {},
   "outputs": [
    {
     "name": "stdout",
     "output_type": "stream",
     "text": [
      "8 4\n",
      "9 5\n",
      "10 2\n",
      "11 1\n",
      "12 3\n"
     ]
    }
   ],
   "source": [
    "# smallest values for reptiles\n",
    "\n",
    "for all_r, freq in hist_all_r.Smallest(5):\n",
    "    print(all_r, freq)"
   ]
  },
  {
   "cell_type": "code",
   "execution_count": 35,
   "id": "b0fd6cfc",
   "metadata": {},
   "outputs": [
    {
     "name": "stdout",
     "output_type": "stream",
     "text": [
      "37 13\n",
      "36 23\n",
      "35 10\n",
      "34 21\n",
      "33 30\n"
     ]
    }
   ],
   "source": [
    "# largest values for reptiles\n",
    "\n",
    "for all_r, freq in hist_all_r.Largest(5):\n",
    "    print(all_r, freq)"
   ]
  },
  {
   "cell_type": "markdown",
   "id": "130e232c",
   "metadata": {},
   "source": [
    "#### All Amphibians"
   ]
  },
  {
   "cell_type": "code",
   "execution_count": 20,
   "id": "3f745689",
   "metadata": {},
   "outputs": [
    {
     "data": {
      "image/png": "[encoded data removed]",
      "text/plain": [
       "<Figure size 640x480 with 1 Axes>"
      ]
     },
     "metadata": {},
     "output_type": "display_data"
    },
    {
     "data": {
      "text/plain": [
       "<Figure size 800x600 with 0 Axes>"
      ]
     },
     "metadata": {},
     "output_type": "display_data"
    }
   ],
   "source": [
    "# histogram for \"all_am\"\n",
    "\n",
    "hist_all_am = thinkstats2.Hist(endangered_df.all_am, label = 'Amphibians')\n",
    "thinkplot.Hist(hist_all_am)\n",
    "thinkplot.Show(xlabel = 'Threatened or Endangered Amphibians', ylabel = 'Frequency')"
   ]
  },
  {
   "cell_type": "markdown",
   "id": "d1190b57",
   "metadata": {},
   "source": [
    "#### Look for outliers by separating the smallest and largest values."
   ]
  },
  {
   "cell_type": "code",
   "execution_count": 36,
   "id": "71517a51",
   "metadata": {},
   "outputs": [
    {
     "name": "stdout",
     "output_type": "stream",
     "text": [
      "4 5\n",
      "5 10\n",
      "7 31\n",
      "8 77\n",
      "9 16\n"
     ]
    }
   ],
   "source": [
    "# smallest values for amphibians\n",
    "\n",
    "for all_am, freq in hist_all_am.Smallest(5):\n",
    "    print(all_am, freq)"
   ]
  },
  {
   "cell_type": "code",
   "execution_count": 37,
   "id": "e7a5582b",
   "metadata": {},
   "outputs": [
    {
     "name": "stdout",
     "output_type": "stream",
     "text": [
      "25 4\n",
      "24 3\n",
      "23 6\n",
      "21 11\n",
      "19 2\n"
     ]
    }
   ],
   "source": [
    "# largest values for amphibians\n",
    "\n",
    "for all_am, freq in hist_all_am.Largest(5):\n",
    "    print(all_am, freq)"
   ]
  },
  {
   "cell_type": "markdown",
   "id": "f3113af2",
   "metadata": {},
   "source": [
    "#### All Fish"
   ]
  },
  {
   "cell_type": "code",
   "execution_count": 23,
   "id": "988b4bb5",
   "metadata": {},
   "outputs": [
    {
     "data": {
      "image/png": "[encoded data removed]",
      "text/plain": [
       "<Figure size 640x480 with 1 Axes>"
      ]
     },
     "metadata": {},
     "output_type": "display_data"
    },
    {
     "data": {
      "text/plain": [
       "<Figure size 800x600 with 0 Axes>"
      ]
     },
     "metadata": {},
     "output_type": "display_data"
    }
   ],
   "source": [
    "# histogram for \"all_f\"\n",
    "\n",
    "hist_all_f = thinkstats2.Hist(endangered_df.all_f, label = 'Fish')\n",
    "thinkplot.Hist(hist_all_f)\n",
    "thinkplot.Show(xlabel = 'Threatened or Endangered Fish', ylabel = 'Frequency')"
   ]
  },
  {
   "cell_type": "markdown",
   "id": "7e4b88e4",
   "metadata": {},
   "source": [
    "#### Look for outliers by separating the smallest and largest values."
   ]
  },
  {
   "cell_type": "code",
   "execution_count": 38,
   "id": "1becb693",
   "metadata": {},
   "outputs": [
    {
     "name": "stdout",
     "output_type": "stream",
     "text": [
      "34 13\n",
      "39 4\n",
      "40 3\n",
      "41 23\n",
      "43 6\n"
     ]
    }
   ],
   "source": [
    "# smallest values for fish\n",
    "\n",
    "for all_f, freq in hist_all_f.Smallest(5):\n",
    "    print(all_f, freq)"
   ]
  },
  {
   "cell_type": "code",
   "execution_count": 39,
   "id": "b7c76aa9",
   "metadata": {},
   "outputs": [
    {
     "name": "stdout",
     "output_type": "stream",
     "text": [
      "140 1\n",
      "139 8\n",
      "137 4\n",
      "116 1\n",
      "115 7\n"
     ]
    }
   ],
   "source": [
    "# largest values for fish\n",
    "\n",
    "for all_f, freq in hist_all_f.Largest(5):\n",
    "    print(all_f, freq)"
   ]
  },
  {
   "cell_type": "markdown",
   "id": "123ca0fd",
   "metadata": {},
   "source": [
    "#### All Plants"
   ]
  },
  {
   "cell_type": "code",
   "execution_count": 26,
   "id": "6e481206",
   "metadata": {},
   "outputs": [
    {
     "data": {
      "image/png": "[encoded data removed]",
      "text/plain": [
       "<Figure size 640x480 with 1 Axes>"
      ]
     },
     "metadata": {},
     "output_type": "display_data"
    },
    {
     "data": {
      "text/plain": [
       "<Figure size 800x600 with 0 Axes>"
      ]
     },
     "metadata": {},
     "output_type": "display_data"
    }
   ],
   "source": [
    "# histogram for \"all_p\"\n",
    "\n",
    "hist_all_p = thinkstats2.Hist(endangered_df.all_p, label = 'Plants')\n",
    "thinkplot.Hist(hist_all_p)\n",
    "thinkplot.Show(xlabel = 'Threatened or Endangered Plants', ylabel = 'Frequency')"
   ]
  },
  {
   "cell_type": "markdown",
   "id": "e63d0675",
   "metadata": {},
   "source": [
    "#### Look for outliers by separating the smallest and largest values."
   ]
  },
  {
   "cell_type": "code",
   "execution_count": 40,
   "id": "e75cbdb4",
   "metadata": {},
   "outputs": [
    {
     "name": "stdout",
     "output_type": "stream",
     "text": [
      "4.0 8\n",
      "17.0 5\n",
      "22.0 6\n",
      "23.0 2\n",
      "24.0 1\n"
     ]
    }
   ],
   "source": [
    "# smallest values for plants\n",
    "\n",
    "for all_p, freq in hist_all_p.Smallest(5):\n",
    "    print(all_p, freq)"
   ]
  },
  {
   "cell_type": "code",
   "execution_count": 41,
   "id": "32352852",
   "metadata": {},
   "outputs": [
    {
     "name": "stdout",
     "output_type": "stream",
     "text": [
      "795.0 1\n",
      "793.0 1\n",
      "746.0 9\n",
      "745.0 4\n",
      "744.0 9\n"
     ]
    }
   ],
   "source": [
    "# largest values for plants\n",
    "\n",
    "for all_p, freq in hist_all_p.Largest(5):\n",
    "    print(all_p, freq)"
   ]
  },
  {
   "cell_type": "markdown",
   "id": "7cda99a8",
   "metadata": {},
   "source": [
    "### Summary and Analysis"
   ]
  },
  {
   "cell_type": "markdown",
   "id": "e9401420",
   "metadata": {},
   "source": [
    "#### I separated the smallest and largest values for each of the chosen variables in order to determine potential outliers. Due to the nature of this project, while there are some outlying values, I will be keeping them all as they are important for the overall picture. These show how, over time, certain species have become more or less endangered/threatened. "
   ]
  },
  {
   "cell_type": "markdown",
   "id": "41b0cdf2",
   "metadata": {},
   "source": [
    "#### Include the other descriptive characteristics about the variables: Mean, Mode, Spread, and Tails (Chapter 2)."
   ]
  },
  {
   "cell_type": "markdown",
   "id": "0fb77175",
   "metadata": {},
   "source": [
    "#### Descriptive Statistics - All Species"
   ]
  },
  {
   "cell_type": "code",
   "execution_count": 65,
   "id": "5195756e",
   "metadata": {},
   "outputs": [
    {
     "name": "stdout",
     "output_type": "stream",
     "text": [
      "Mean: 592.3478260869565\n",
      "Mode: [284]\n",
      "Range: 1197\n",
      "Variance: 151995.38940573382\n",
      "Standard Deviation: 389.86586078513443\n",
      "25%: [284.75]\n",
      "50%: [420.5]\n",
      "75%: [959.]\n"
     ]
    }
   ],
   "source": [
    "# descriptive stats split up and cleaned up\n",
    "\n",
    "print('Mean:', endangered_df.all_all.mean())\n",
    "print('Mode:', endangered_df.all_all.mode().values)\n",
    "print('Range:', (endangered_df.all_all.max() -  endangered_df.all_all.min()))\n",
    "print('Variance:', endangered_df.all_all.var())\n",
    "print('Standard Deviation:', endangered_df.all_all.std())\n",
    "print('25%:', endangered_df.all_all.quantile([0.25]).values)\n",
    "print('50%:', endangered_df.all_all.quantile([0.5]).values)\n",
    "print('75%:', endangered_df.all_all.quantile([0.75]).values)\n",
    "\n",
    "\n",
    "# summary print out could also have been used\n",
    "\n",
    "# print('Summary:', endangered_df.all_all.describe())"
   ]
  },
  {
   "cell_type": "markdown",
   "id": "89c60804",
   "metadata": {},
   "source": [
    "#### Descriptive Statistics - All Mammals"
   ]
  },
  {
   "cell_type": "code",
   "execution_count": 66,
   "id": "6ab65a8a",
   "metadata": {},
   "outputs": [
    {
     "name": "stdout",
     "output_type": "stream",
     "text": [
      "Mean: 51.947826086956525\n",
      "Mode: [36]\n",
      "Range: 50\n",
      "Variance: 238.9142965635086\n",
      "Standard Deviation: 15.45685273797705\n",
      "25%: [36.]\n",
      "50%: [49.5]\n",
      "75%: [64.]\n"
     ]
    }
   ],
   "source": [
    "# descriptive stats split up and cleaned up\n",
    "\n",
    "print('Mean:', endangered_df.all_m.mean())\n",
    "print('Mode:', endangered_df.all_m.mode().values)\n",
    "print('Range:', (endangered_df.all_m.max() -  endangered_df.all_m.min()))\n",
    "print('Variance:', endangered_df.all_m.var())\n",
    "print('Standard Deviation:', endangered_df.all_m.std())\n",
    "print('25%:', endangered_df.all_m.quantile([0.25]).values)\n",
    "print('50%:', endangered_df.all_m.quantile([0.5]).values)\n",
    "print('75%:', endangered_df.all_m.quantile([0.75]).values)\n",
    "\n",
    "\n",
    "# summary print out could also have been used\n",
    "\n",
    "# print('Summary:', endangered_df.all_m.describe())"
   ]
  },
  {
   "cell_type": "markdown",
   "id": "84072538",
   "metadata": {},
   "source": [
    "#### Descriptive Statistics - All Birds"
   ]
  },
  {
   "cell_type": "code",
   "execution_count": 67,
   "id": "b73b84d0",
   "metadata": {},
   "outputs": [
    {
     "name": "stdout",
     "output_type": "stream",
     "text": [
      "Mean: 79.59130434782608\n",
      "Mode: [69]\n",
      "Range: 27\n",
      "Variance: 88.15538257072342\n",
      "Standard Deviation: 9.389109785848891\n",
      "25%: [69.25]\n",
      "50%: [82.]\n",
      "75%: [90.]\n"
     ]
    }
   ],
   "source": [
    "# descriptive stats split up and cleaned up\n",
    "\n",
    "print('Mean:', endangered_df.all_b.mean())\n",
    "print('Mode:', endangered_df.all_b.mode().values)\n",
    "print('Range:', (endangered_df.all_b.max() -  endangered_df.all_b.min()))\n",
    "print('Variance:', endangered_df.all_b.var())\n",
    "print('Standard Deviation:', endangered_df.all_b.std())\n",
    "print('25%:', endangered_df.all_b.quantile([0.25]).values)\n",
    "print('50%:', endangered_df.all_b.quantile([0.5]).values)\n",
    "print('75%:', endangered_df.all_b.quantile([0.75]).values)\n",
    "\n",
    "\n",
    "# summary print out could also have been used\n",
    "\n",
    "# print('Summary:', endangered_df.all_b.describe())"
   ]
  },
  {
   "cell_type": "markdown",
   "id": "c34db208",
   "metadata": {},
   "source": [
    "#### Descriptive Statistics - All Reptiles"
   ]
  },
  {
   "cell_type": "code",
   "execution_count": 68,
   "id": "58c8447a",
   "metadata": {},
   "outputs": [
    {
     "name": "stdout",
     "output_type": "stream",
     "text": [
      "Mean: 27.830434782608695\n",
      "Mode: [26]\n",
      "Range: 29\n",
      "Variance: 55.61741029048798\n",
      "Standard Deviation: 7.457708112449024\n",
      "25%: [25.]\n",
      "50%: [26.5]\n",
      "75%: [34.]\n"
     ]
    }
   ],
   "source": [
    "# descriptive stats split up and cleaned up\n",
    "\n",
    "print('Mean:', endangered_df.all_r.mean())\n",
    "print('Mode:', endangered_df.all_r.mode().values)\n",
    "print('Range:', (endangered_df.all_r.max() -  endangered_df.all_r.min()))\n",
    "print('Variance:', endangered_df.all_r.var())\n",
    "print('Standard Deviation:', endangered_df.all_r.std())\n",
    "print('25%:', endangered_df.all_r.quantile([0.25]).values)\n",
    "print('50%:', endangered_df.all_r.quantile([0.5]).values)\n",
    "print('75%:', endangered_df.all_r.quantile([0.75]).values)\n",
    "\n",
    "\n",
    "# summary print out could also have been used\n",
    "\n",
    "# print('Summary:', endangered_df.all_r.describe())"
   ]
  },
  {
   "cell_type": "markdown",
   "id": "6272158f",
   "metadata": {},
   "source": [
    "#### Descriptive Statistics - All Amphibians"
   ]
  },
  {
   "cell_type": "code",
   "execution_count": 69,
   "id": "8d689b86",
   "metadata": {},
   "outputs": [
    {
     "name": "stdout",
     "output_type": "stream",
     "text": [
      "Mean: 10.791304347826086\n",
      "Mode: [8]\n",
      "Range: 21\n",
      "Variance: 26.130928422251763\n",
      "Standard Deviation: 5.111841979389793\n",
      "25%: [8.]\n",
      "50%: [8.]\n",
      "75%: [12.]\n"
     ]
    }
   ],
   "source": [
    "# descriptive stats split up and cleaned up\n",
    "\n",
    "print('Mean:', endangered_df.all_am.mean())\n",
    "print('Mode:', endangered_df.all_am.mode().values)\n",
    "print('Range:', (endangered_df.all_am.max() -  endangered_df.all_am.min()))\n",
    "print('Variance:', endangered_df.all_am.var())\n",
    "print('Standard Deviation:', endangered_df.all_am.std())\n",
    "print('25%:', endangered_df.all_am.quantile([0.25]).values)\n",
    "print('50%:', endangered_df.all_am.quantile([0.5]).values)\n",
    "print('75%:', endangered_df.all_am.quantile([0.75]).values)\n",
    "\n",
    "\n",
    "# summary print out could also have been used\n",
    "\n",
    "# print('Summary:', endangered_df.all_am.describe())"
   ]
  },
  {
   "cell_type": "markdown",
   "id": "e57279f7",
   "metadata": {},
   "source": [
    "#### Descriptive Statistics - All Fish"
   ]
  },
  {
   "cell_type": "code",
   "execution_count": 70,
   "id": "f4cec606",
   "metadata": {},
   "outputs": [
    {
     "name": "stdout",
     "output_type": "stream",
     "text": [
      "Mean: 72.74782608695652\n",
      "Mode: [41]\n",
      "Range: 106\n",
      "Variance: 992.5824188342514\n",
      "Standard Deviation: 31.50527604758053\n",
      "25%: [44.]\n",
      "50%: [69.5]\n",
      "75%: [105.]\n"
     ]
    }
   ],
   "source": [
    "# descriptive stats split up and cleaned up\n",
    "\n",
    "print('Mean:', endangered_df.all_f.mean())\n",
    "print('Mode:', endangered_df.all_f.mode().values)\n",
    "print('Range:', (endangered_df.all_f.max() -  endangered_df.all_f.min()))\n",
    "print('Variance:', endangered_df.all_f.var())\n",
    "print('Standard Deviation:', endangered_df.all_f.std())\n",
    "print('25%:', endangered_df.all_f.quantile([0.25]).values)\n",
    "print('50%:', endangered_df.all_f.quantile([0.5]).values)\n",
    "print('75%:', endangered_df.all_f.quantile([0.75]).values)\n",
    "\n",
    "\n",
    "# summary print out could also have been used\n",
    "\n",
    "# print('Summary:', endangered_df.all_f.describe())"
   ]
  },
  {
   "cell_type": "markdown",
   "id": "49e8b8e3",
   "metadata": {},
   "source": [
    "#### Descriptive Statistics - All Plants"
   ]
  },
  {
   "cell_type": "code",
   "execution_count": 71,
   "id": "b5da402b",
   "metadata": {},
   "outputs": [
    {
     "name": "stdout",
     "output_type": "stream",
     "text": [
      "Mean: 281.11467889908255\n",
      "Mode: [67.]\n",
      "Range: 791.0\n",
      "Variance: 73539.41996786882\n",
      "Standard Deviation: 271.1815258602046\n",
      "25%: [62.]\n",
      "50%: [155.]\n",
      "75%: [525.75]\n"
     ]
    }
   ],
   "source": [
    "# descriptive stats split up and cleaned up\n",
    "\n",
    "print('Mean:', endangered_df.all_p.mean())\n",
    "print('Mode:', endangered_df.all_p.mode().values)\n",
    "print('Range:', (endangered_df.all_p.max() -  endangered_df.all_p.min()))\n",
    "print('Variance:', endangered_df.all_p.var())\n",
    "print('Standard Deviation:', endangered_df.all_p.std())\n",
    "print('25%:', endangered_df.all_p.quantile([0.25]).values)\n",
    "print('50%:', endangered_df.all_p.quantile([0.5]).values)\n",
    "print('75%:', endangered_df.all_p.quantile([0.75]).values)\n",
    "\n",
    "\n",
    "# summary print out could also have been used\n",
    "\n",
    "# print('Summary:', endangered_df.all_p.describe())"
   ]
  },
  {
   "cell_type": "markdown",
   "id": "898d43b9",
   "metadata": {},
   "source": [
    "#### Using pg. 29 of your text as an example, compare two scenarios in your data using a PMF. Reminder, this isn’t comparing two variables against each other – it is the same variable, but a different scenario. Almost like a filter. The example in the book is first babies compared to all other babies, it is still the same variable, but breaking the data out based on criteria we are exploring (Chapter 3)."
   ]
  },
  {
   "cell_type": "code",
   "execution_count": 72,
   "id": "ae0329de",
   "metadata": {},
   "outputs": [],
   "source": [
    "endangered_pmf = thinkstats2.Pmf(endangered_df.end_m, label = \"endangered\")\n",
    "threatened_pmf = thinkstats2.Pmf(endangered_df.thrt_m, label = \"threatened\")"
   ]
  },
  {
   "cell_type": "code",
   "execution_count": 84,
   "id": "5b2aadbd",
   "metadata": {},
   "outputs": [
    {
     "data": {
      "image/png": "[encoded data removed]",
      "text/plain": [
       "<Figure size 1200x600 with 2 Axes>"
      ]
     },
     "metadata": {},
     "output_type": "display_data"
    }
   ],
   "source": [
    "width = 0.85\n",
    "thinkplot.PrePlot(2, cols = 2)\n",
    "thinkplot.Hist(endangered_pmf, align = \"right\", width = width)\n",
    "thinkplot.Hist(threatened_pmf, align = \"left\", width = width)\n",
    "thinkplot.Config(xlabel = \"Number of Mammals\", ylabel = \"PMF\")\n",
    "\n",
    "thinkplot.PrePlot(2)\n",
    "thinkplot.SubPlot(2)\n",
    "thinkplot.Pmfs([endangered_pmf, threatened_pmf])\n",
    "thinkplot.Config(xlabel = \"Number of Mammals\")"
   ]
  },
  {
   "cell_type": "markdown",
   "id": "6d7bd482",
   "metadata": {},
   "source": [
    "#### The PMF compares mammals which are endangered to those who are only threatened as both a bar graph and a step function.\n",
    "\n",
    "#### Both of the graphs show that there is a greater number of mammals between the years 1976 and 2010 that are endangered as opposed to being only threatened."
   ]
  },
  {
   "cell_type": "markdown",
   "id": "9e885712",
   "metadata": {},
   "source": [
    "#### Create 1 CDF with one of your variables, using page 41-44 as your guide, what does this tell you about your variable and how does it address the question you are trying to answer (Chapter 4)."
   ]
  },
  {
   "cell_type": "code",
   "execution_count": 89,
   "id": "3084a8f6",
   "metadata": {},
   "outputs": [
    {
     "data": {
      "image/png": "[encoded data removed]",
      "text/plain": [
       "<Figure size 640x480 with 1 Axes>"
      ]
     },
     "metadata": {},
     "output_type": "display_data"
    }
   ],
   "source": [
    "# CDF for all fish variable\n",
    "\n",
    "all_f_cdf = thinkstats2.Cdf(endangered_df.all_f, label = 'All Fish')\n",
    "thinkplot.Cdf(all_f_cdf)\n",
    "thinkplot.Config(xlabel = 'All Fish Endangered or Threatened', ylabel = 'CDF', loc = 'upper left')"
   ]
  },
  {
   "cell_type": "markdown",
   "id": "ef1d90e7",
   "metadata": {},
   "source": [
    "#### Over the years, less than 10% of the assessments were below 40 fish endangered or threatened. On the other hand, about 75% of the assessments, showed 100+ fish which were endangered or threatened."
   ]
  },
  {
   "cell_type": "markdown",
   "id": "82b26a6d",
   "metadata": {},
   "source": [
    "#### Plot 1 analytical distribution and provide your analysis on how it applies to the dataset you have chosen (Chapter 5)."
   ]
  },
  {
   "cell_type": "code",
   "execution_count": 97,
   "id": "a9e4162d",
   "metadata": {},
   "outputs": [
    {
     "name": "stdout",
     "output_type": "stream",
     "text": [
      "Mean: 51.947826086956525\n",
      "Var: 237.8755387523629\n",
      "Sigma: 15.423214280828848\n"
     ]
    },
    {
     "data": {
      "image/png": "[encoded data removed]",
      "text/plain": [
       "<Figure size 640x480 with 1 Axes>"
      ]
     },
     "metadata": {},
     "output_type": "display_data"
    }
   ],
   "source": [
    "mammals = endangered_df.all_m\n",
    "\n",
    "# estimate mean and variance\n",
    "\n",
    "mu, var = thinkstats2.MeanVar(mammals)\n",
    "print('Mean:', mu)\n",
    "print('Var:', var)\n",
    "    \n",
    "# plot model\n",
    "\n",
    "sigma = np.sqrt(var)\n",
    "print('Sigma:', sigma)\n",
    "xs, ps = thinkstats2.RenderNormalCdf(mu, sigma, low = 0, high = 100)\n",
    "\n",
    "thinkplot.Plot(xs, ps, label = 'Model', color = 'grey')\n",
    "\n",
    "# plot mammals data\n",
    "\n",
    "cdf = thinkstats2.Cdf(mammals, label = 'Mammals')\n",
    "\n",
    "thinkplot.PrePlot(1)\n",
    "thinkplot.Cdf(cdf) \n",
    "thinkplot.Config(title = 'Mammals Endangered or Threatened',\n",
    "                 xlabel = 'Number of Mammals',\n",
    "                 ylabel = 'CDF')"
   ]
  },
  {
   "cell_type": "markdown",
   "id": "58910b0b",
   "metadata": {},
   "source": [
    "#### The curves in the all mammals data deviate from the normal curve of the expected model. The most common values (35-38) occupy the first 40th percentile rank. The curves seem to become closer to one another in the upper part of the graph 75th percentle to 95th. "
   ]
  },
  {
   "cell_type": "markdown",
   "id": "8f708f94",
   "metadata": {},
   "source": [
    "#### Create two scatter plots comparing two variables and provide your analysis on correlation and causation. Remember, covariance, Pearson’s correlation, and Non-Linear Relationships should also be considered during your analysis (Chapter 7)."
   ]
  },
  {
   "cell_type": "markdown",
   "id": "d8ffdc56",
   "metadata": {},
   "source": [
    "#### Scatterplots: "
   ]
  },
  {
   "cell_type": "code",
   "execution_count": 124,
   "id": "cfe934b1",
   "metadata": {},
   "outputs": [
    {
     "data": {
      "image/png": "[encoded data removed]",
      "text/plain": [
       "<Figure size 640x480 with 1 Axes>"
      ]
     },
     "metadata": {},
     "output_type": "display_data"
    },
    {
     "data": {
      "text/plain": [
       "<Figure size 800x600 with 0 Axes>"
      ]
     },
     "metadata": {},
     "output_type": "display_data"
    }
   ],
   "source": [
    "# comparison of reptiles and mammals\n",
    "\n",
    "thinkplot.Scatter(endangered_df.all_r, endangered_df.all_m, alpha = 0.5)\n",
    "thinkplot.Config(xlabel = 'Reptiles',\n",
    "                 ylabel = 'Mammals',\n",
    "                 legend = True)\n",
    "\n",
    "thinkplot.show()"
   ]
  },
  {
   "cell_type": "markdown",
   "id": "cad40e79",
   "metadata": {},
   "source": [
    "#### This scatterplot suggests a mostly positive correlation between the number of endangered/threatened mammals and the number of endangered/threatened plants. "
   ]
  },
  {
   "cell_type": "code",
   "execution_count": 107,
   "id": "ae6d2b6f",
   "metadata": {},
   "outputs": [
    {
     "data": {
      "image/png": "[encoded data removed]",
      "text/plain": [
       "<Figure size 640x480 with 1 Axes>"
      ]
     },
     "metadata": {},
     "output_type": "display_data"
    },
    {
     "data": {
      "text/plain": [
       "<Figure size 800x600 with 0 Axes>"
      ]
     },
     "metadata": {},
     "output_type": "display_data"
    }
   ],
   "source": [
    "thinkplot.Scatter(endangered_df.index, endangered_df.all_all, alpha=0.5)\n",
    "thinkplot.Config(xlabel='Date',\n",
    "                 ylabel='All Species Endangered or Threatened',\n",
    "                 axis=[endangered_df.index[0], endangered_df.index[-1], 0, 1400],\n",
    "                 legend=False)\n",
    "\n",
    "thinkplot.show()"
   ]
  },
  {
   "cell_type": "markdown",
   "id": "d97ab1fb",
   "metadata": {},
   "source": [
    "#### This scatterplot suggests that there is a positive correlation between the number of species classified as either endangered or threatened and time."
   ]
  },
  {
   "cell_type": "markdown",
   "id": "ee1078fa",
   "metadata": {},
   "source": [
    "#### Covariance: "
   ]
  },
  {
   "cell_type": "code",
   "execution_count": 109,
   "id": "a2818877",
   "metadata": {},
   "outputs": [],
   "source": [
    "def Cov(xs, ys, meanx = None, meany = None):\n",
    "    xs = np.asarray(xs)\n",
    "    ys = np.asarray(ys)\n",
    "\n",
    "    if meanx is None:\n",
    "        meanx = np.mean(xs)\n",
    "    if meany is None:\n",
    "        meany = np.mean(ys)\n",
    "\n",
    "    cov = np.dot(xs - meanx, ys - meany) / len(xs)\n",
    "    return cov"
   ]
  },
  {
   "cell_type": "code",
   "execution_count": 123,
   "id": "480ffa20",
   "metadata": {},
   "outputs": [
    {
     "data": {
      "text/plain": [
       "95.25202268431003"
      ]
     },
     "execution_count": 123,
     "metadata": {},
     "output_type": "execute_result"
    }
   ],
   "source": [
    "# All Reptiles vs. Mammals - Covariance\n",
    "\n",
    "Cov(endangered_df.all_r, endangered_df.all_m)"
   ]
  },
  {
   "cell_type": "code",
   "execution_count": 116,
   "id": "4f0b0fba",
   "metadata": {},
   "outputs": [
    {
     "data": {
      "text/plain": [
       "34182461.20378071"
      ]
     },
     "execution_count": 116,
     "metadata": {},
     "output_type": "execute_result"
    }
   ],
   "source": [
    "# Creating new column for date index values\n",
    "\n",
    "endangered_df['date_values'] = endangered_df.index.values\n",
    "\n",
    "dates = endangered_df.date_values\n",
    "\n",
    "# Converting date column to integer\n",
    "\n",
    "dates_int = dates.dt.strftime(\"%Y%m%d\").astype(int)\n",
    "\n",
    "# Date vs. All Species - Covariance\n",
    "\n",
    "Cov(dates_int, endangered_df.all_all)"
   ]
  },
  {
   "cell_type": "markdown",
   "id": "977fe01f",
   "metadata": {},
   "source": [
    "#### Both the covariance for Mammals vs. Plants and that for Dates vs. All Species returned a positive relationship. "
   ]
  },
  {
   "cell_type": "markdown",
   "id": "aee19df6",
   "metadata": {},
   "source": [
    "#### Pearson's Correlation"
   ]
  },
  {
   "cell_type": "code",
   "execution_count": 117,
   "id": "2c21a388",
   "metadata": {},
   "outputs": [],
   "source": [
    "def Corr(xs, ys):\n",
    "    xs = np.asarray(xs)\n",
    "    ys = np.asarray(ys)\n",
    "\n",
    "    meanx, varx = thinkstats2.MeanVar(xs)\n",
    "    meany, vary = thinkstats2.MeanVar(ys)\n",
    "\n",
    "    corr = Cov(xs, ys, meanx, meany) / np.sqrt(varx * vary)\n",
    "    return corr"
   ]
  },
  {
   "cell_type": "code",
   "execution_count": 122,
   "id": "dc28350b",
   "metadata": {},
   "outputs": [
    {
     "data": {
      "text/plain": [
       "0.8299274125970323"
      ]
     },
     "execution_count": 122,
     "metadata": {},
     "output_type": "execute_result"
    }
   ],
   "source": [
    "# Reptiles vs. Mammals\n",
    "\n",
    "Corr(endangered_df.all_r, endangered_df.all_m)"
   ]
  },
  {
   "cell_type": "code",
   "execution_count": 125,
   "id": "5d277638",
   "metadata": {},
   "outputs": [
    {
     "data": {
      "text/plain": [
       "0.9769299662487161"
      ]
     },
     "execution_count": 125,
     "metadata": {},
     "output_type": "execute_result"
    }
   ],
   "source": [
    "# Date vs. All Species\n",
    "\n",
    "Corr(dates_int, endangered_df.all_all)"
   ]
  },
  {
   "cell_type": "markdown",
   "id": "e235a616",
   "metadata": {},
   "source": [
    "#### It appears that there is a strong positive correlation between dates and the number of species endangered or threatened, as well as between the number of reptiles either endangered/threatened and the number of mammals either endangered/threatened. "
   ]
  },
  {
   "cell_type": "markdown",
   "id": "40fcf52d",
   "metadata": {},
   "source": [
    "#### Non-Linear Relationships"
   ]
  },
  {
   "cell_type": "code",
   "execution_count": 126,
   "id": "6390dcd2",
   "metadata": {},
   "outputs": [
    {
     "data": {
      "text/plain": [
       "0.7152023750007471"
      ]
     },
     "execution_count": 126,
     "metadata": {},
     "output_type": "execute_result"
    }
   ],
   "source": [
    "# convert variables for reptiles and mammals and check corr\n",
    "\n",
    "Corr(np.log(endangered_df.all_r), np.log(endangered_df.all_m))"
   ]
  },
  {
   "cell_type": "code",
   "execution_count": 127,
   "id": "6f9bc2cc",
   "metadata": {},
   "outputs": [
    {
     "data": {
      "text/plain": [
       "0.9754341294652449"
      ]
     },
     "execution_count": 127,
     "metadata": {},
     "output_type": "execute_result"
    }
   ],
   "source": [
    "# convert variables for date and all species and check corr\n",
    "\n",
    "Corr(np.log(dates_int), np.log(endangered_df.all_all))"
   ]
  },
  {
   "cell_type": "markdown",
   "id": "cd1dca24",
   "metadata": {},
   "source": [
    "#### Upon converting to account for non-linear relationships, there is still a correlation for both comparisons.  "
   ]
  },
  {
   "cell_type": "markdown",
   "id": "8e44b133",
   "metadata": {},
   "source": [
    "#### Conduct a test on your hypothesis using one of the methods covered in Chapter 9."
   ]
  },
  {
   "cell_type": "markdown",
   "id": "6fa3acdf",
   "metadata": {},
   "source": [
    "#### Hypothesis Testing - Null Hypothesis: No correlation between the number of endangered/threatened birds and the number of endangered/threatened mammals."
   ]
  },
  {
   "cell_type": "code",
   "execution_count": 132,
   "id": "795985a9",
   "metadata": {},
   "outputs": [],
   "source": [
    "class CorrelationPermute(thinkstats2.HypothesisTest):\n",
    "\n",
    "    def TestStatistic(self, data):\n",
    "        \n",
    "        xs, ys = data\n",
    "        test_stat = abs(thinkstats2.Corr(xs, ys))\n",
    "        return test_stat\n",
    "\n",
    "    def RunModel(self):\n",
    "        \n",
    "        xs, ys = self.data\n",
    "        xs = np.random.permutation(xs)\n",
    "        return xs, ys"
   ]
  },
  {
   "cell_type": "code",
   "execution_count": 150,
   "id": "4dfa3f2a",
   "metadata": {},
   "outputs": [
    {
     "name": "stdout",
     "output_type": "stream",
     "text": [
      "p-value:  0.0\n"
     ]
    }
   ],
   "source": [
    "# create subset\n",
    "\n",
    "cleaned = endangered_df.dropna(subset=['all_b', 'all_m'])\n",
    "corr_data = cleaned.all_b, cleaned.all_m\n",
    "\n",
    "# correlation on subset\n",
    "\n",
    "corr_test = CorrelationPermute(corr_data)\n",
    "pvalue = corr_test.PValue()\n",
    "\n",
    "print ('p-value: ', pvalue)"
   ]
  },
  {
   "cell_type": "markdown",
   "id": "a9cb84bc",
   "metadata": {},
   "source": [
    "#### The p-value is 0, which tells us that there wasn't a correlation more significant than the null hypothesis."
   ]
  },
  {
   "cell_type": "markdown",
   "id": "5d5af0e5",
   "metadata": {},
   "source": [
    "#### For this project, conduct a regression analysis on either one dependent and one explanatory variable, or multiple explanatory variables (Chapter 10 & 11)"
   ]
  },
  {
   "cell_type": "code",
   "execution_count": 140,
   "id": "04d1e1a4",
   "metadata": {},
   "outputs": [],
   "source": [
    "import statsmodels.formula.api as smf"
   ]
  },
  {
   "cell_type": "code",
   "execution_count": 147,
   "id": "93983804",
   "metadata": {},
   "outputs": [
    {
     "data": {
      "text/html": [
       "<table class=\"simpletable\">\n",
       "<caption>OLS Regression Results</caption>\n",
       "<tr>\n",
       "  <th>Dep. Variable:</th>          <td>all_m</td>      <th>  R-squared:         </th> <td>   0.902</td> \n",
       "</tr>\n",
       "<tr>\n",
       "  <th>Model:</th>                   <td>OLS</td>       <th>  Adj. R-squared:    </th> <td>   0.901</td> \n",
       "</tr>\n",
       "<tr>\n",
       "  <th>Method:</th>             <td>Least Squares</td>  <th>  F-statistic:       </th> <td>   2091.</td> \n",
       "</tr>\n",
       "<tr>\n",
       "  <th>Date:</th>             <td>Thu, 29 Feb 2024</td> <th>  Prob (F-statistic):</th> <td>7.85e-117</td>\n",
       "</tr>\n",
       "<tr>\n",
       "  <th>Time:</th>                 <td>18:24:55</td>     <th>  Log-Likelihood:    </th> <td> -688.84</td> \n",
       "</tr>\n",
       "<tr>\n",
       "  <th>No. Observations:</th>      <td>   230</td>      <th>  AIC:               </th> <td>   1382.</td> \n",
       "</tr>\n",
       "<tr>\n",
       "  <th>Df Residuals:</th>          <td>   228</td>      <th>  BIC:               </th> <td>   1389.</td> \n",
       "</tr>\n",
       "<tr>\n",
       "  <th>Df Model:</th>              <td>     1</td>      <th>                     </th>     <td> </td>    \n",
       "</tr>\n",
       "<tr>\n",
       "  <th>Covariance Type:</th>      <td>nonrobust</td>    <th>                     </th>     <td> </td>    \n",
       "</tr>\n",
       "</table>\n",
       "<table class=\"simpletable\">\n",
       "<tr>\n",
       "      <td></td>         <th>coef</th>     <th>std err</th>      <th>t</th>      <th>P>|t|</th>  <th>[0.025</th>    <th>0.975]</th>  \n",
       "</tr>\n",
       "<tr>\n",
       "  <th>Intercept</th> <td>   29.6473</td> <td>    0.583</td> <td>   50.820</td> <td> 0.000</td> <td>   28.498</td> <td>   30.797</td>\n",
       "</tr>\n",
       "<tr>\n",
       "  <th>all_all</th>   <td>    0.0376</td> <td>    0.001</td> <td>   45.733</td> <td> 0.000</td> <td>    0.036</td> <td>    0.039</td>\n",
       "</tr>\n",
       "</table>\n",
       "<table class=\"simpletable\">\n",
       "<tr>\n",
       "  <th>Omnibus:</th>       <td>41.088</td> <th>  Durbin-Watson:     </th> <td>   0.028</td>\n",
       "</tr>\n",
       "<tr>\n",
       "  <th>Prob(Omnibus):</th> <td> 0.000</td> <th>  Jarque-Bera (JB):  </th> <td>  16.338</td>\n",
       "</tr>\n",
       "<tr>\n",
       "  <th>Skew:</th>          <td> 0.442</td> <th>  Prob(JB):          </th> <td>0.000283</td>\n",
       "</tr>\n",
       "<tr>\n",
       "  <th>Kurtosis:</th>      <td> 2.039</td> <th>  Cond. No.          </th> <td>1.29e+03</td>\n",
       "</tr>\n",
       "</table><br/><br/>Notes:<br/>[1] Standard Errors assume that the covariance matrix of the errors is correctly specified.<br/>[2] The condition number is large, 1.29e+03. This might indicate that there are<br/>strong multicollinearity or other numerical problems."
      ],
      "text/latex": [
       "\\begin{center}\n",
       "\\begin{tabular}{lclc}\n",
       "\\toprule\n",
       "\\textbf{Dep. Variable:}    &      all\\_m      & \\textbf{  R-squared:         } &     0.902   \\\\\n",
       "\\textbf{Model:}            &       OLS        & \\textbf{  Adj. R-squared:    } &     0.901   \\\\\n",
       "\\textbf{Method:}           &  Least Squares   & \\textbf{  F-statistic:       } &     2091.   \\\\\n",
       "\\textbf{Date:}             & Thu, 29 Feb 2024 & \\textbf{  Prob (F-statistic):} & 7.85e-117   \\\\\n",
       "\\textbf{Time:}             &     18:24:55     & \\textbf{  Log-Likelihood:    } &   -688.84   \\\\\n",
       "\\textbf{No. Observations:} &         230      & \\textbf{  AIC:               } &     1382.   \\\\\n",
       "\\textbf{Df Residuals:}     &         228      & \\textbf{  BIC:               } &     1389.   \\\\\n",
       "\\textbf{Df Model:}         &           1      & \\textbf{                     } &             \\\\\n",
       "\\textbf{Covariance Type:}  &    nonrobust     & \\textbf{                     } &             \\\\\n",
       "\\bottomrule\n",
       "\\end{tabular}\n",
       "\\begin{tabular}{lcccccc}\n",
       "                   & \\textbf{coef} & \\textbf{std err} & \\textbf{t} & \\textbf{P$> |$t$|$} & \\textbf{[0.025} & \\textbf{0.975]}  \\\\\n",
       "\\midrule\n",
       "\\textbf{Intercept} &      29.6473  &        0.583     &    50.820  &         0.000        &       28.498    &       30.797     \\\\\n",
       "\\textbf{all\\_all}  &       0.0376  &        0.001     &    45.733  &         0.000        &        0.036    &        0.039     \\\\\n",
       "\\bottomrule\n",
       "\\end{tabular}\n",
       "\\begin{tabular}{lclc}\n",
       "\\textbf{Omnibus:}       & 41.088 & \\textbf{  Durbin-Watson:     } &    0.028  \\\\\n",
       "\\textbf{Prob(Omnibus):} &  0.000 & \\textbf{  Jarque-Bera (JB):  } &   16.338  \\\\\n",
       "\\textbf{Skew:}          &  0.442 & \\textbf{  Prob(JB):          } & 0.000283  \\\\\n",
       "\\textbf{Kurtosis:}      &  2.039 & \\textbf{  Cond. No.          } & 1.29e+03  \\\\\n",
       "\\bottomrule\n",
       "\\end{tabular}\n",
       "%\\caption{OLS Regression Results}\n",
       "\\end{center}\n",
       "\n",
       "Notes: \\newline\n",
       " [1] Standard Errors assume that the covariance matrix of the errors is correctly specified. \\newline\n",
       " [2] The condition number is large, 1.29e+03. This might indicate that there are \\newline\n",
       " strong multicollinearity or other numerical problems."
      ],
      "text/plain": [
       "<class 'statsmodels.iolib.summary.Summary'>\n",
       "\"\"\"\n",
       "                            OLS Regression Results                            \n",
       "==============================================================================\n",
       "Dep. Variable:                  all_m   R-squared:                       0.902\n",
       "Model:                            OLS   Adj. R-squared:                  0.901\n",
       "Method:                 Least Squares   F-statistic:                     2091.\n",
       "Date:                Thu, 29 Feb 2024   Prob (F-statistic):          7.85e-117\n",
       "Time:                        18:24:55   Log-Likelihood:                -688.84\n",
       "No. Observations:                 230   AIC:                             1382.\n",
       "Df Residuals:                     228   BIC:                             1389.\n",
       "Df Model:                           1                                         \n",
       "Covariance Type:            nonrobust                                         \n",
       "==============================================================================\n",
       "                 coef    std err          t      P>|t|      [0.025      0.975]\n",
       "------------------------------------------------------------------------------\n",
       "Intercept     29.6473      0.583     50.820      0.000      28.498      30.797\n",
       "all_all        0.0376      0.001     45.733      0.000       0.036       0.039\n",
       "==============================================================================\n",
       "Omnibus:                       41.088   Durbin-Watson:                   0.028\n",
       "Prob(Omnibus):                  0.000   Jarque-Bera (JB):               16.338\n",
       "Skew:                           0.442   Prob(JB):                     0.000283\n",
       "Kurtosis:                       2.039   Cond. No.                     1.29e+03\n",
       "==============================================================================\n",
       "\n",
       "Notes:\n",
       "[1] Standard Errors assume that the covariance matrix of the errors is correctly specified.\n",
       "[2] The condition number is large, 1.29e+03. This might indicate that there are\n",
       "strong multicollinearity or other numerical problems.\n",
       "\"\"\""
      ]
     },
     "execution_count": 147,
     "metadata": {},
     "output_type": "execute_result"
    }
   ],
   "source": [
    "# all mammals as function of all species\n",
    "\n",
    "formula = 'all_m ~ all_all'\n",
    "model = smf.ols(formula, data = endangered_df)\n",
    "results = model.fit()\n",
    "results.summary()"
   ]
  },
  {
   "cell_type": "code",
   "execution_count": 154,
   "id": "b98b6622",
   "metadata": {},
   "outputs": [
    {
     "name": "stdout",
     "output_type": "stream",
     "text": [
      "Intercept: 29.647347603485983\n",
      "Slope: 0.03764760753962293\n",
      "p-value of slope estimate: 7.849550924033315e-117\n",
      "R^2: 0.9017020163033321\n"
     ]
    }
   ],
   "source": [
    "inter = results.params['Intercept']\n",
    "slope = results.params['all_all']\n",
    "slope_pvalue = results.pvalues['all_all']\n",
    "print('Intercept:', inter)\n",
    "print('Slope:', slope)\n",
    "print('p-value of slope estimate:', slope_pvalue)\n",
    "print('R^2:', results.rsquared)"
   ]
  },
  {
   "cell_type": "markdown",
   "id": "e849955c",
   "metadata": {},
   "source": [
    "#### Overall, with high R^2 values, the regression results support strong correlation and predictive power."
   ]
  }
 ],
 "metadata": {
  "kernelspec": {
   "display_name": "Python 3 (ipykernel)",
   "language": "python",
   "name": "python3"
  },
  "language_info": {
   "codemirror_mode": {
    "name": "ipython",
    "version": 3
   },
   "file_extension": ".py",
   "mimetype": "text/x-python",
   "name": "python",
   "nbconvert_exporter": "python",
   "pygments_lexer": "ipython3",
   "version": "3.11.5"
  }
 },
 "nbformat": 4,
 "nbformat_minor": 5
}
